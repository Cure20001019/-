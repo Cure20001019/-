{
 "cells": [
  {
   "cell_type": "code",
   "execution_count": null,
   "metadata": {},
   "outputs": [],
   "source": [
    "# %load 3-move_to_train.py\n",
    "import os\n",
    "import shutil\n",
    "\n",
    "# 将新采集类,移到train中.\n",
    "\n",
    "def move_image(src_dir, dst_dir):\n",
    "    sub_dirs = os.listdir(\"/media/linux/000A9A85000F5E96/New\")\n",
    "    for sub_dir in sub_dirs:\n",
    "        if not os.path.isdir(os.path.join(dst_dir, sub_dir)):\n",
    "            print(\"{} doesn't existed. Skipped it.\".format(os.path.join(src_dir, sub_dir)))\n",
    "            continue\n",
    "        else:\n",
    "            for image in os.listdir(os.path.join(src_dir, sub_dir)):\n",
    "                shutil.move(os.path.join(src_dir, sub_dir, image), os.path.join(dst_dir, sub_dir, image))\n",
    "        print(\"{} moved\".format(sub_dir))\n",
    "\n",
    "\n",
    "if __name__ == \"__main__\":\n",
    "    # 源目录\n",
    "    src_dir = \"/media/linux/000A9A85000F5E96/17-陈世存_edited\"\n",
    "    # 移动目标目录\n",
    "    dst_dir = \"/media/linux/000A9A85000F5E96/Datasets/BJUT_Dataset/train\"\n",
    "\n",
    "    assert os.path.isdir(src_dir) and os.path.isdir(dst_dir)\n",
    "\n",
    "    move_image(src_dir, dst_dir)\n"
   ]
  },
  {
   "cell_type": "code",
   "execution_count": null,
   "metadata": {},
   "outputs": [],
   "source": []
  }
 ],
 "metadata": {
  "kernelspec": {
   "display_name": "Python 3",
   "language": "python",
   "name": "python3"
  },
  "language_info": {
   "codemirror_mode": {
    "name": "ipython",
    "version": 3
   },
   "file_extension": ".py",
   "mimetype": "text/x-python",
   "name": "python",
   "nbconvert_exporter": "python",
   "pygments_lexer": "ipython3",
   "version": "3.8.10"
  }
 },
 "nbformat": 4,
 "nbformat_minor": 4
}
